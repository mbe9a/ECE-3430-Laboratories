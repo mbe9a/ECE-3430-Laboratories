{
 "cells": [
  {
   "cell_type": "code",
   "execution_count": 11,
   "metadata": {
    "collapsed": false
   },
   "outputs": [],
   "source": [
    "import requirements as req"
   ]
  },
  {
   "cell_type": "code",
   "execution_count": 12,
   "metadata": {
    "collapsed": false,
    "scrolled": true
   },
   "outputs": [
    {
     "name": "stdout",
     "output_type": "stream",
     "text": [
      "(0, 11520, 11520, 28160, 2560)\n",
      "(1, 6801, 18321, 29440, -11520)\n",
      "(2, 3593, 14728, 32320, -4160)\n",
      "(3, 1824, 12904, 32840, -120)\n",
      "(4, 916, 11988, 32848, 1932)\n",
      "(5, 458, 12446, 32908, 906)\n",
      "(6, 229, 12675, 32922, 392)\n",
      "(7, 115, 12790, 32925, 135)\n",
      "(8, 57, 12847, 32925, 7)\n",
      "(9, 29, 12876, 32925, -57)\n",
      "(10, 14, 12862, 32926, -25)\n",
      "(11, 7, 12855, 32927, -9)\n",
      "(12, 4, 12851, 32928, -1)\n",
      "(13, 2, 12849, 32929, 3)\n",
      "(14, 1, 12850, 32929, 1)\n",
      "(15, 0, 12850, 32929, 0)\n"
     ]
    }
   ],
   "source": [
    "o = req.CORDIC(x = 50, y = 60)\n",
    "o.cordic_calc_H()"
   ]
  },
  {
   "cell_type": "code",
   "execution_count": 13,
   "metadata": {
    "collapsed": false
   },
   "outputs": [
    {
     "name": "stdout",
     "output_type": "stream",
     "text": [
      "50.1953125 50.1944289077 1.76033931338e-05\n",
      "78.1102808594 78.1024967591 9.96651922214e-05\n"
     ]
    }
   ],
   "source": [
    "print o.measured, o.expected, o.angle_error\n",
    "print o.measured_H, o.calc_H, o.hyp_error"
   ]
  },
  {
   "cell_type": "code",
   "execution_count": 14,
   "metadata": {
    "collapsed": false,
    "scrolled": true
   },
   "outputs": [
    {
     "name": "stdout",
     "output_type": "stream",
     "text": [
      "(0, 11520, 5803, 155, 155)\n",
      "(1, 6801, -998, 78, 232)\n",
      "(2, 3593, 2595, 136, 213)\n",
      "(3, 1824, 771, 110, 230)\n",
      "(4, 916, -145, 96, 236)\n",
      "(5, 458, 313, 103, 233)\n",
      "(6, 229, 84, 100, 234)\n",
      "(7, 115, -31, 99, 234)\n",
      "(8, 57, 26, 99, 234)\n",
      "(9, 29, -3, 99, 234)\n",
      "(10, 14, 11, 99, 234)\n",
      "(11, 7, 4, 99, 234)\n",
      "(12, 4, 0, 99, 234)\n",
      "(13, 2, 2, 99, 234)\n",
      "(14, 1, 1, 99, 234)\n",
      "(15, 0, 1, 99, 234)\n"
     ]
    }
   ],
   "source": [
    "t = req.CORDIC()\n",
    "t.cordic_calc_SC(67.67)"
   ]
  },
  {
   "cell_type": "code",
   "execution_count": 15,
   "metadata": {
    "collapsed": false
   },
   "outputs": [
    {
     "name": "stdout",
     "output_type": "stream",
     "text": [
      "0.9140625 0.925010908789 0.0118359780242\n",
      "0.38671875 0.379940546168 0.017840169734\n"
     ]
    }
   ],
   "source": [
    "print t.sine, t.sine_exp, t.sine_err\n",
    "print t.cosine, t.cosine_exp, t.cosine_err"
   ]
  },
  {
   "cell_type": "code",
   "execution_count": null,
   "metadata": {
    "collapsed": true
   },
   "outputs": [],
   "source": []
  }
 ],
 "metadata": {
  "kernelspec": {
   "display_name": "Python 2",
   "language": "python",
   "name": "python2"
  },
  "language_info": {
   "codemirror_mode": {
    "name": "ipython",
    "version": 2
   },
   "file_extension": ".py",
   "mimetype": "text/x-python",
   "name": "python",
   "nbconvert_exporter": "python",
   "pygments_lexer": "ipython2",
   "version": "2.7.10"
  }
 },
 "nbformat": 4,
 "nbformat_minor": 0
}
